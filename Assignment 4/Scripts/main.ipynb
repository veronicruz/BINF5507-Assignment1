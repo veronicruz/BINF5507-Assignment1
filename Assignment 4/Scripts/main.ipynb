{
 "cells": [
  {
   "cell_type": "markdown",
   "id": "5cdcdc4d",
   "metadata": {},
   "source": [
    "### Import Libraries "
   ]
  },
  {
   "cell_type": "code",
   "execution_count": null,
   "id": "ac1fe2af",
   "metadata": {},
   "outputs": [],
   "source": []
  },
  {
   "cell_type": "markdown",
   "id": "ebb263ad",
   "metadata": {},
   "source": [
    "### Load Dataset and Additional Prep (Feature Engineering)"
   ]
  },
  {
   "cell_type": "code",
   "execution_count": null,
   "id": "be866ab7",
   "metadata": {},
   "outputs": [],
   "source": []
  },
  {
   "cell_type": "markdown",
   "id": "c32b6958",
   "metadata": {},
   "source": [
    "## Build and Evaluate Models"
   ]
  },
  {
   "cell_type": "markdown",
   "id": "a5ac9bd1",
   "metadata": {},
   "source": [
    "### Kaplan-Meier Analysis "
   ]
  },
  {
   "cell_type": "code",
   "execution_count": null,
   "id": "ac245cc0",
   "metadata": {},
   "outputs": [],
   "source": [
    "#------- Kaplan-Meier Survival Curves for 2 groups (Treatment, age, tumor stage)\n",
    "\n",
    "#Log rank test for group 1\n",
    "\n",
    "#log rank test for group 2"
   ]
  },
  {
   "cell_type": "markdown",
   "id": "dd90afe0",
   "metadata": {},
   "source": [
    "### Cox Propirtional Hazards Regression "
   ]
  },
  {
   "cell_type": "code",
   "execution_count": null,
   "id": "fed16a0f",
   "metadata": {},
   "outputs": [],
   "source": [
    "#----- Cox regression with at lead 3 covariates \n",
    "\n",
    "#validate proptional hazard Assumptions "
   ]
  },
  {
   "cell_type": "markdown",
   "id": "2dde65ed",
   "metadata": {},
   "source": [
    "### Random Survival Forests (RSF)"
   ]
  },
  {
   "cell_type": "code",
   "execution_count": null,
   "id": "3b133557",
   "metadata": {},
   "outputs": [],
   "source": [
    "## build random survival forest model \n",
    "\n",
    "# preform vairabl eimporance analysis to find predicitve factors"
   ]
  },
  {
   "cell_type": "markdown",
   "id": "c53b4594",
   "metadata": {},
   "source": [
    "## RSF vs Cox Comparison"
   ]
  },
  {
   "cell_type": "code",
   "execution_count": null,
   "id": "b2462bbf",
   "metadata": {},
   "outputs": [],
   "source": [
    "## compare RSF models concordance index (C-index) with Cox regression "
   ]
  }
 ],
 "metadata": {
  "language_info": {
   "name": "python"
  }
 },
 "nbformat": 4,
 "nbformat_minor": 5
}
