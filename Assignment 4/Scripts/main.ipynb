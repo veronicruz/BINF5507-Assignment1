{
 "cells": [
  {
   "cell_type": "markdown",
   "id": "5cdcdc4d",
   "metadata": {},
   "source": [
    "### Import Libraries "
   ]
  },
  {
   "cell_type": "code",
   "execution_count": 1,
   "id": "ac1fe2af",
   "metadata": {},
   "outputs": [
    {
     "ename": "ModuleNotFoundError",
     "evalue": "No module named 'lifelines'",
     "output_type": "error",
     "traceback": [
      "\u001b[0;31m---------------------------------------------------------------------------\u001b[0m",
      "\u001b[0;31mModuleNotFoundError\u001b[0m                       Traceback (most recent call last)",
      "Cell \u001b[0;32mIn[1], line 13\u001b[0m\n\u001b[1;32m      7\u001b[0m \u001b[38;5;28;01mimport\u001b[39;00m \u001b[38;5;21;01mmatplotlib\u001b[39;00m\u001b[38;5;21;01m.\u001b[39;00m\u001b[38;5;21;01mpyplot\u001b[39;00m \u001b[38;5;28;01mas\u001b[39;00m \u001b[38;5;21;01mplt\u001b[39;00m \n\u001b[1;32m      9\u001b[0m \u001b[38;5;66;03m#=====================================================\u001b[39;00m\n\u001b[1;32m     10\u001b[0m \u001b[38;5;66;03m#           Kaplan-Meier, Cox and RSF and  Analysis \u001b[39;00m\n\u001b[1;32m     11\u001b[0m \u001b[38;5;66;03m#=====================================================\u001b[39;00m\n\u001b[0;32m---> 13\u001b[0m \u001b[38;5;28;01mfrom\u001b[39;00m \u001b[38;5;21;01mlifelines\u001b[39;00m \u001b[38;5;28;01mimport\u001b[39;00m KaplanMeierFitter, CoxPHFitter\n\u001b[1;32m     14\u001b[0m \u001b[38;5;28;01mfrom\u001b[39;00m \u001b[38;5;21;01msksurv\u001b[39;00m\u001b[38;5;21;01m.\u001b[39;00m\u001b[38;5;21;01mensemble\u001b[39;00m \u001b[38;5;28;01mimport\u001b[39;00m RandomSurvivalForest\n\u001b[1;32m     16\u001b[0m \u001b[38;5;66;03m#=====================================================\u001b[39;00m\n\u001b[1;32m     17\u001b[0m \u001b[38;5;66;03m#                       Evaluation  \u001b[39;00m\n\u001b[1;32m     18\u001b[0m \u001b[38;5;66;03m#=====================================================\u001b[39;00m\n",
      "\u001b[0;31mModuleNotFoundError\u001b[0m: No module named 'lifelines'"
     ]
    }
   ],
   "source": [
    "#=====================================================\n",
    "#           Data Manipulation and Plotting  \n",
    "#=====================================================\n",
    "\n",
    "import pandas as pd\n",
    "import numpy as np\n",
    "import matplotlib.pyplot as plt \n",
    "\n",
    "#=====================================================\n",
    "#           Kaplan-Meier, Cox and RSF and  Analysis \n",
    "#=====================================================\n",
    "\n",
    "from lifelines import KaplanMeierFitter, CoxPHFitter\n",
    "from sksurv.ensemble import RandomSurvivalForest\n",
    "\n",
    "#=====================================================\n",
    "#                       Evaluation  \n",
    "#=====================================================\n",
    "from lifelines.statistics import logrank_test\n",
    "\n",
    "from sklearn.inspection import permutation_importance\n",
    "from sklearn.model_selection import train_test_split"
   ]
  },
  {
   "cell_type": "markdown",
   "id": "ebb263ad",
   "metadata": {},
   "source": [
    "### Load Dataset and Additional Prep (Feature Engineering)"
   ]
  },
  {
   "cell_type": "code",
   "execution_count": 2,
   "id": "be866ab7",
   "metadata": {},
   "outputs": [
    {
     "name": "stdout",
     "output_type": "stream",
     "text": [
      "     patient_id   Age     Sex ECOG PS Smoking PY Smoking Status     Ds Site  \\\n",
      "0  RADCURE-0005  62.6  Female  ECOG 0         50      Ex-smoker  Oropharynx   \n",
      "1  RADCURE-0006  87.3    Male  ECOG 2         25      Ex-smoker      Larynx   \n",
      "2  RADCURE-0007  49.9    Male  ECOG 1         15      Ex-smoker  Oropharynx   \n",
      "3  RADCURE-0009  72.3    Male  ECOG 1         30      Ex-smoker     Unknown   \n",
      "4  RADCURE-0010  59.7  Female  ECOG 0          0     Non-smoker  Oropharynx   \n",
      "\n",
      "           Subsite    T    N  ... Regional Date Regional Distant Date Distant  \\\n",
      "0        post wall  T4b  N2c  ...      NaN           NaT     NaN          NaT   \n",
      "1          Glottis  T1b   N0  ...      NaN           NaT     NaN          NaT   \n",
      "2           Tonsil   T3  N2b  ...      NaN           NaT     NaN          NaT   \n",
      "3              NaN   T0  N2c  ...      NaN           NaT     NaN          NaT   \n",
      "4  Tonsillar Fossa  T4b   N0  ...      NaN           NaT     NaN          NaT   \n",
      "\n",
      "             2nd Ca Date 2nd Ca RADCURE-challenge  ContrastEnhanced  \\\n",
      "0               NaN         NaT                 0                 0   \n",
      "1               NaN         NaT                 0                 1   \n",
      "2               NaN         NaT                 0                 1   \n",
      "3  S   (suspicious)  2008-05-27                 0                 0   \n",
      "4               NaN         NaT                 0                 0   \n",
      "\n",
      "   DeathDateAdjusted DeathFlag  \n",
      "0             1420.0      True  \n",
      "1             2928.0      True  \n",
      "2             4673.0     False  \n",
      "3             4673.0     False  \n",
      "4             4673.0     False  \n",
      "\n",
      "[5 rows x 36 columns]\n"
     ]
    }
   ],
   "source": [
    "data = pd.read_excel('../Data/RADCURE_Clinical_v04_20241219.xlsx')\n",
    "# Preprocessing, create event flag and normalize death dates\n",
    "data['DeathDateAdjusted'] = data['Date of Death'].subtract(data['Date of Death'].min()).dt.days\n",
    "data.loc[data['DeathDateAdjusted'].isna(), 'DeathDateAdjusted']  = data['DeathDateAdjusted'].max()\n",
    "data['DeathFlag'] = data['Status'] == 'Dead'\n",
    "\n",
    "print(data.head())"
   ]
  },
  {
   "cell_type": "markdown",
   "id": "c32b6958",
   "metadata": {},
   "source": [
    "## Build and Evaluate Models"
   ]
  },
  {
   "cell_type": "markdown",
   "id": "a5ac9bd1",
   "metadata": {},
   "source": [
    "### Kaplan-Meier Analysis "
   ]
  },
  {
   "cell_type": "code",
   "execution_count": null,
   "id": "ac245cc0",
   "metadata": {},
   "outputs": [],
   "source": [
    "#------- Kaplan-Meier Survival Curves for 2 groups (Treatment, age, tumor stage)\n",
    "\n",
    "#Log rank test for group 1\n",
    "\n",
    "#log rank test for group 2"
   ]
  },
  {
   "cell_type": "markdown",
   "id": "dd90afe0",
   "metadata": {},
   "source": [
    "### Cox Propirtional Hazards Regression "
   ]
  },
  {
   "cell_type": "code",
   "execution_count": null,
   "id": "fed16a0f",
   "metadata": {},
   "outputs": [],
   "source": [
    "#----- Cox regression with at lead 3 covariates \n",
    "\n",
    "#validate proptional hazard Assumptions "
   ]
  },
  {
   "cell_type": "markdown",
   "id": "2dde65ed",
   "metadata": {},
   "source": [
    "### Random Survival Forests (RSF)"
   ]
  },
  {
   "cell_type": "code",
   "execution_count": null,
   "id": "3b133557",
   "metadata": {},
   "outputs": [],
   "source": [
    "## build random survival forest model \n",
    "\n",
    "# preform vairabl eimporance analysis to find predicitve factors"
   ]
  },
  {
   "cell_type": "markdown",
   "id": "c53b4594",
   "metadata": {},
   "source": [
    "## RSF vs Cox Comparison"
   ]
  },
  {
   "cell_type": "code",
   "execution_count": null,
   "id": "b2462bbf",
   "metadata": {},
   "outputs": [],
   "source": [
    "## compare RSF models concordance index (C-index) with Cox regression "
   ]
  }
 ],
 "metadata": {
  "kernelspec": {
   "display_name": "base",
   "language": "python",
   "name": "python3"
  },
  "language_info": {
   "codemirror_mode": {
    "name": "ipython",
    "version": 3
   },
   "file_extension": ".py",
   "mimetype": "text/x-python",
   "name": "python",
   "nbconvert_exporter": "python",
   "pygments_lexer": "ipython3",
   "version": "3.12.2"
  }
 },
 "nbformat": 4,
 "nbformat_minor": 5
}
